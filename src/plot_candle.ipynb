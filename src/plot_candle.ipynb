{
 "cells": [
  {
   "cell_type": "markdown",
   "metadata": {},
   "source": [
    "## Plotting Candle Sticks"
   ]
  },
  {
   "cell_type": "markdown",
   "metadata": {},
   "source": [
    "Welcome to this ipython notebook for plotting candle sticks. We are going to use numpy, quandl and plotly in order to acquire data and plot out candle sticks"
   ]
  },
  {
   "cell_type": "code",
   "execution_count": 2,
   "metadata": {
    "collapsed": true
   },
   "outputs": [],
   "source": [
    "from datetime import datetime\n",
    "import plotly\n",
    "import plotly.offline as py\n",
    "import plotly.graph_objs as go\n",
    "import pandas as pd\n",
    "import quandl\n",
    "import talib"
   ]
  },
  {
   "cell_type": "code",
   "execution_count": 3,
   "metadata": {
    "collapsed": true
   },
   "outputs": [],
   "source": [
    "import talib\n",
    "import numpy as np\n",
    "import numpy as np\n",
    "import torch\n",
    "import torch.nn as nn\n",
    "import matplotlib.pyplot as plot"
   ]
  },
  {
   "cell_type": "markdown",
   "metadata": {},
   "source": [
    "Here we can specify the specific stock info that we want. Search the quandl free api calls here(https://www.quandl.com/search?query=) Currently I have a call bellow that gets bitcoin prices on a day resolution. We get the Open, Close, High, Low, Volume(BTC), Volume(Currency) and weighted price values for each day. These are stored in a pandas data frame and can be accesed i.e. stock_val['open']. All of the data has a date value associated with it."
   ]
  },
  {
   "cell_type": "code",
   "execution_count": 4,
   "metadata": {
    "collapsed": true
   },
   "outputs": [],
   "source": [
    "stock_val=quandl.get(\"BCHARTS/BITFINEXUSD\")"
   ]
  },
  {
   "cell_type": "code",
   "execution_count": 5,
   "metadata": {
    "collapsed": false
   },
   "outputs": [
    {
     "data": {
      "text/html": [
       "<div>\n",
       "<style scoped>\n",
       "    .dataframe tbody tr th:only-of-type {\n",
       "        vertical-align: middle;\n",
       "    }\n",
       "\n",
       "    .dataframe tbody tr th {\n",
       "        vertical-align: top;\n",
       "    }\n",
       "\n",
       "    .dataframe thead th {\n",
       "        text-align: right;\n",
       "    }\n",
       "</style>\n",
       "<table border=\"1\" class=\"dataframe\">\n",
       "  <thead>\n",
       "    <tr style=\"text-align: right;\">\n",
       "      <th></th>\n",
       "      <th>Open</th>\n",
       "      <th>High</th>\n",
       "      <th>Low</th>\n",
       "      <th>Close</th>\n",
       "      <th>Volume (BTC)</th>\n",
       "      <th>Volume (Currency)</th>\n",
       "      <th>Weighted Price</th>\n",
       "    </tr>\n",
       "  </thead>\n",
       "  <tbody>\n",
       "    <tr>\n",
       "      <th>count</th>\n",
       "      <td>1363.000000</td>\n",
       "      <td>1363.000000</td>\n",
       "      <td>1363.000000</td>\n",
       "      <td>1363.000000</td>\n",
       "      <td>1363.000000</td>\n",
       "      <td>1.363000e+03</td>\n",
       "      <td>1363.000000</td>\n",
       "    </tr>\n",
       "    <tr>\n",
       "      <th>mean</th>\n",
       "      <td>405.304763</td>\n",
       "      <td>416.560585</td>\n",
       "      <td>392.450111</td>\n",
       "      <td>405.903719</td>\n",
       "      <td>18877.630270</td>\n",
       "      <td>7.472261e+06</td>\n",
       "      <td>404.871663</td>\n",
       "    </tr>\n",
       "    <tr>\n",
       "      <th>std</th>\n",
       "      <td>213.629493</td>\n",
       "      <td>219.881864</td>\n",
       "      <td>206.824893</td>\n",
       "      <td>213.810747</td>\n",
       "      <td>23524.240028</td>\n",
       "      <td>9.983940e+06</td>\n",
       "      <td>212.504780</td>\n",
       "    </tr>\n",
       "    <tr>\n",
       "      <th>min</th>\n",
       "      <td>0.000000</td>\n",
       "      <td>0.000000</td>\n",
       "      <td>0.000000</td>\n",
       "      <td>0.000000</td>\n",
       "      <td>0.000000</td>\n",
       "      <td>0.000000e+00</td>\n",
       "      <td>0.000000</td>\n",
       "    </tr>\n",
       "    <tr>\n",
       "      <th>25%</th>\n",
       "      <td>236.600000</td>\n",
       "      <td>241.115000</td>\n",
       "      <td>233.200000</td>\n",
       "      <td>236.740000</td>\n",
       "      <td>5622.603863</td>\n",
       "      <td>2.144966e+06</td>\n",
       "      <td>237.142362</td>\n",
       "    </tr>\n",
       "    <tr>\n",
       "      <th>50%</th>\n",
       "      <td>389.980000</td>\n",
       "      <td>402.680000</td>\n",
       "      <td>376.400000</td>\n",
       "      <td>389.960000</td>\n",
       "      <td>11443.655525</td>\n",
       "      <td>4.390500e+06</td>\n",
       "      <td>388.345041</td>\n",
       "    </tr>\n",
       "    <tr>\n",
       "      <th>75%</th>\n",
       "      <td>586.755000</td>\n",
       "      <td>598.490000</td>\n",
       "      <td>573.970000</td>\n",
       "      <td>586.577550</td>\n",
       "      <td>23162.294126</td>\n",
       "      <td>9.226900e+06</td>\n",
       "      <td>586.824547</td>\n",
       "    </tr>\n",
       "    <tr>\n",
       "      <th>max</th>\n",
       "      <td>1142.990000</td>\n",
       "      <td>1175.000000</td>\n",
       "      <td>1090.000000</td>\n",
       "      <td>1143.000000</td>\n",
       "      <td>274465.728234</td>\n",
       "      <td>1.222903e+08</td>\n",
       "      <td>1137.097669</td>\n",
       "    </tr>\n",
       "  </tbody>\n",
       "</table>\n",
       "</div>"
      ],
      "text/plain": [
       "              Open         High          Low        Close   Volume (BTC)  \\\n",
       "count  1363.000000  1363.000000  1363.000000  1363.000000    1363.000000   \n",
       "mean    405.304763   416.560585   392.450111   405.903719   18877.630270   \n",
       "std     213.629493   219.881864   206.824893   213.810747   23524.240028   \n",
       "min       0.000000     0.000000     0.000000     0.000000       0.000000   \n",
       "25%     236.600000   241.115000   233.200000   236.740000    5622.603863   \n",
       "50%     389.980000   402.680000   376.400000   389.960000   11443.655525   \n",
       "75%     586.755000   598.490000   573.970000   586.577550   23162.294126   \n",
       "max    1142.990000  1175.000000  1090.000000  1143.000000  274465.728234   \n",
       "\n",
       "       Volume (Currency)  Weighted Price  \n",
       "count       1.363000e+03     1363.000000  \n",
       "mean        7.472261e+06      404.871663  \n",
       "std         9.983940e+06      212.504780  \n",
       "min         0.000000e+00        0.000000  \n",
       "25%         2.144966e+06      237.142362  \n",
       "50%         4.390500e+06      388.345041  \n",
       "75%         9.226900e+06      586.824547  \n",
       "max         1.222903e+08     1137.097669  "
      ]
     },
     "execution_count": 5,
     "metadata": {},
     "output_type": "execute_result"
    }
   ],
   "source": [
    "stock_val.describe()"
   ]
  },
  {
   "cell_type": "markdown",
   "metadata": {},
   "source": [
    "Next we are going to make a nice candle stick plot of the data. In order to do this you have to setup an account at plotly(https://plot.ly). After you setup an account make sure to confiure your account according to these directions(https://plot.ly/python/getting-started/). Once this is done you should be able to run the bellow and get out a simple candle stick chart. Check out other charts here(https://plot.ly/python/candlestick-charts/)"
   ]
  },
  {
   "cell_type": "code",
   "execution_count": 6,
   "metadata": {
    "collapsed": false
   },
   "outputs": [
    {
     "name": "stdout",
     "output_type": "stream",
     "text": [
      "High five! You successfully sent some data to your account on plotly. View your plot in your browser at https://plot.ly/~lthul/0 or inside your plot.ly account where it is named 'simple_candlestick'\n"
     ]
    },
    {
     "data": {
      "text/html": [
       "<iframe id=\"igraph\" scrolling=\"no\" style=\"border:none;\" seamless=\"seamless\" src=\"https://plot.ly/~lthul/0.embed\" height=\"525px\" width=\"100%\"></iframe>"
      ],
      "text/plain": [
       "<plotly.tools.PlotlyDisplay object>"
      ]
     },
     "execution_count": 6,
     "metadata": {},
     "output_type": "execute_result"
    }
   ],
   "source": [
    "trace = go.Candlestick(x=stock_val.index,\n",
    "                       open=stock_val.Open,\n",
    "                       high=stock_val.High,\n",
    "                       low=stock_val.Low,\n",
    "                       close=stock_val.Close)\n",
    "data = [trace]\n",
    "py.iplot(data, filename='simple_candlestick')"
   ]
  },
  {
   "cell_type": "code",
   "execution_count": 7,
   "metadata": {
    "collapsed": true
   },
   "outputs": [],
   "source": [
    "candles={}\n",
    "candle_cnts={'x':[], 'y':[]}\n",
    "time_vals=stock_val.index\n",
    "candle_stick_patterns=talib.get_function_groups()['Pattern Recognition']\n",
    "for pat in candle_stick_patterns:\n",
    "    candles[pat]=getattr(talib,pat)(stock_val['Open'], stock_val['High'], stock_val['Low'], stock_val['Close'])\n",
    "    candle_cnts['x'].append(pat)\n",
    "    candle_cnts['y'].append(len(np.where(candles[pat]>0)[0]))\n",
    "candles_bar = pd.DataFrame(data=candle_cnts)"
   ]
  },
  {
   "cell_type": "markdown",
   "metadata": {},
   "source": [
    "Create bar chart of the counts for each type of candlestick"
   ]
  },
  {
   "cell_type": "code",
   "execution_count": null,
   "metadata": {
    "collapsed": true
   },
   "outputs": [],
   "source": []
  },
  {
   "cell_type": "code",
   "execution_count": 33,
   "metadata": {
    "collapsed": false
   },
   "outputs": [
    {
     "data": {
      "text/html": [
       "<iframe id=\"igraph\" scrolling=\"no\" style=\"border:none;\" seamless=\"seamless\" src=\"https://plot.ly/~anthonytec2/2.embed\" height=\"525px\" width=\"100%\"></iframe>"
      ],
      "text/plain": [
       "<plotly.tools.PlotlyDisplay object>"
      ]
     },
     "execution_count": 33,
     "metadata": {},
     "output_type": "execute_result"
    }
   ],
   "source": [
    "candle_bar_plt = [go.Bar(\n",
    "            x=candles_bar['x'],\n",
    "            y=candles_bar['y']\n",
    "    )]\n",
    "layout = go.Layout(\n",
    "    title='Counts of each candlestick type',\n",
    "    xaxis=dict(\n",
    "        title='Candlestick types',\n",
    "        titlefont=dict(\n",
    "            family='Courier New, monospace',\n",
    "            size=18,\n",
    "            color='#7f7f7f'\n",
    "        )\n",
    "    ),\n",
    "    yaxis=dict(\n",
    "        title='Counts',\n",
    "        titlefont=dict(\n",
    "            family='Courier New, monospace',\n",
    "            size=18,\n",
    "            color='#7f7f7f'\n",
    "        )\n",
    "    )\n",
    ")\n",
    "py.iplot({'data': candle_bar_plt, 'layout': layout}, filename='basic-bar')"
   ]
  },
  {
   "cell_type": "markdown",
   "metadata": {},
   "source": [
    "Defining a heatmap of candlestick activity"
   ]
  },
  {
   "cell_type": "code",
   "execution_count": 34,
   "metadata": {
    "collapsed": false
   },
   "outputs": [
    {
     "data": {
      "text/html": [
       "<iframe id=\"igraph\" scrolling=\"no\" style=\"border:none;\" seamless=\"seamless\" src=\"https://plot.ly/~anthonytec2/4.embed\" height=\"525px\" width=\"100%\"></iframe>"
      ],
      "text/plain": [
       "<plotly.tools.PlotlyDisplay object>"
      ]
     },
     "execution_count": 34,
     "metadata": {},
     "output_type": "execute_result"
    }
   ],
   "source": [
    "trace = go.Heatmap(x=time_vals.tolist(),\n",
    "                y=list(candles.keys())[0:20],   # there are 61 candlesticks, any more than 10 at a time\n",
    "                z=list(candles.values())[0:20]) # isn't very useful\n",
    "data=[trace]\n",
    "layout = go.Layout(title='Candlestick Heatmap',\n",
    "    margin=go.Margin(\n",
    "        l=160, # for left margin cutoff\n",
    "        r=50,\n",
    "        b=50,\n",
    "        t=100,\n",
    "        pad=4\n",
    "    ))\n",
    "fig = go.Figure(data=data, layout=layout)\n",
    "py.iplot(fig, filename='candlestick-heatmap')"
   ]
  },
  {
   "cell_type": "code",
   "execution_count": 8,
   "metadata": {
    "collapsed": false
   },
   "outputs": [
    {
     "data": {
      "text/plain": [
       "array([[9.32500000e+01, 1.00000000e+02, 9.30300000e+01, ...,\n",
       "        3.90827224e+02, 3.70893330e+04, 9.48995634e+01],\n",
       "       [9.31700000e+01, 1.05900000e+02, 9.24999900e+01, ...,\n",
       "        4.91965413e+03, 4.92101017e+05, 1.00027564e+02],\n",
       "       [1.02800000e+02, 1.18388067e+02, 9.90000000e+01, ...,\n",
       "        9.08483282e+03, 9.87411878e+05, 1.08687953e+02],\n",
       "       ...,\n",
       "       [7.90590000e+02, 8.02330000e+02, 7.87860000e+02, ...,\n",
       "        6.99255929e+03, 5.55029679e+06, 7.93743258e+02],\n",
       "       [7.97990000e+02, 8.30500000e+02, 7.94950000e+02, ...,\n",
       "        1.62166405e+04, 1.32357307e+07, 8.16182038e+02],\n",
       "       [8.29340000e+02, 8.74000000e+02, 8.25000000e+02, ...,\n",
       "        1.08575574e+04, 9.27245156e+06, 8.54008981e+02]])"
      ]
     },
     "execution_count": 8,
     "metadata": {},
     "output_type": "execute_result"
    }
   ],
   "source": [
    "stock_val.values"
   ]
  },
  {
   "cell_type": "code",
   "execution_count": null,
   "metadata": {
    "collapsed": true
   },
   "outputs": [],
   "source": []
  }
 ],
 "metadata": {
  "anaconda-cloud": {},
  "kernelspec": {
   "display_name": "Python 3",
   "language": "python",
   "name": "python3"
  },
  "language_info": {
   "codemirror_mode": {
    "name": "ipython",
    "version": 3
   },
   "file_extension": ".py",
   "mimetype": "text/x-python",
   "name": "python",
   "nbconvert_exporter": "python",
   "pygments_lexer": "ipython3",
   "version": "3.6.4"
  }
 },
 "nbformat": 4,
 "nbformat_minor": 2
}
