{
 "cells": [
  {
   "cell_type": "markdown",
   "metadata": {},
   "source": [
    "## NN in Pytorch\n",
    "Defining different metrics that define a [candle stick](https://stock-market-forecast.blogspot.com/2012/02/automated-recognition-of-candlestick.html).  "
   ]
  },
  {
   "cell_type": "code",
   "execution_count": 99,
   "metadata": {},
   "outputs": [],
   "source": [
    "import torch\n",
    "import torch.nn as nn\n",
    "import torch.optim as optim\n",
    "from torch.autograd import Variable\n",
    "import matplotlib.pyplot as plot\n",
    "import time\n",
    "import math\n",
    "import quandl\n",
    "import matplotlib.pyplot as plot\n",
    "import numpy as np\n",
    "from googlefinance.client import get_price_data, get_prices_data, get_prices_time_data"
   ]
  },
  {
   "cell_type": "code",
   "execution_count": 128,
   "metadata": {},
   "outputs": [],
   "source": [
    "stock_val=quandl.get(\"BCHARTS/BITFINEXUSD\")\n",
    "RB = 100.0 * (stock_val.Close - stock_val.Open) / (stock_val.Open)\n",
    "US = 100.0 * (stock_val.Close - stock_val.Open) / (stock_val.High - stock_val.Open)\n",
    "LS = 100.0 * (stock_val.Close - stock_val.Open) / (stock_val.Close - stock_val.Low)\n",
    "data = torch.zeros((RB.size,3))\n",
    "data[:,0] = torch.from_numpy(RB.values)\n",
    "data[:,1] = torch.from_numpy(US.values)\n",
    "data[:,2] = torch.from_numpy(LS.values)\n",
    "inputdata = torch.Tensor(data)"
   ]
  },
  {
   "cell_type": "code",
   "execution_count": 133,
   "metadata": {},
   "outputs": [],
   "source": [
    "stock_val = (stock_val.Close.values - min(stock_val.Close.values))/(max(stock_val.Close.values) - min(stock_val.Close.values))"
   ]
  },
  {
   "cell_type": "code",
   "execution_count": 167,
   "metadata": {},
   "outputs": [],
   "source": [
    "param = {\n",
    "    'q': \"AAPL\", # Stock symbol (ex: \"AAPL\")\n",
    "    'i': \"86400\", # Interval size in seconds (\"86400\" = 1 day intervals)\n",
    "    'x': \"NASD\", # Stock exchange symbol on which stock is traded (ex: \"NASD\")\n",
    "    'p': \"5Y\" # Period (Ex: \"1Y\" = 1 year)\n",
    "}\n",
    "stock_test = get_price_data(param)\n",
    "stock_test = (stock_test.Close.values - min(stock_test.Close.values))/(max(stock_test.Close.values) - min(stock_test.Close.values))"
   ]
  },
  {
   "cell_type": "markdown",
   "metadata": {},
   "source": [
    "Define a Neurual Network model with 3 input features, 2 hidden layers and one output layer.![alt text](https://ml4a.github.io/images/figures/neural-net.png)\n"
   ]
  },
  {
   "cell_type": "code",
   "execution_count": 168,
   "metadata": {},
   "outputs": [],
   "source": [
    "D_in, H, D_out = 3, 2, 1"
   ]
  },
  {
   "cell_type": "code",
   "execution_count": 169,
   "metadata": {},
   "outputs": [],
   "source": [
    "class TwoLayerNet(torch.nn.Module):\n",
    "    def __init__(self, D_in, H, D_out):\n",
    "        \"\"\"\n",
    "        In the constructor we instantiate two nn.Linear modules and assign them as\n",
    "        member variables.\n",
    "        \"\"\"\n",
    "        super(TwoLayerNet, self).__init__()\n",
    "        self.linear1 = torch.nn.Linear(D_in, H)\n",
    "        self.linear2 = torch.nn.Linear(H, D_out)\n",
    "\n",
    "    def forward(self, x):\n",
    "        \"\"\"\n",
    "        In the forward function we accept a Variable of input data and we must return\n",
    "        a Variable of output data. We can use Modules defined in the constructor as\n",
    "        well as arbitrary operators on Variables.\n",
    "        \"\"\"\n",
    "        h_relu = self.linear1(x).clamp(min=0)\n",
    "        y_pred = self.linear2(h_relu)\n",
    "        return y_pred"
   ]
  },
  {
   "cell_type": "markdown",
   "metadata": {},
   "source": [
    "Define RNN module with 10 previous outputs to get the next output. RNN module ![alt text](http://colah.github.io/posts/2015-08-Understanding-LSTMs/img/RNN-unrolled.png)"
   ]
  },
  {
   "cell_type": "code",
   "execution_count": 170,
   "metadata": {},
   "outputs": [],
   "source": [
    "input_size, hidden_size, output_size = 10, 128, 1\n",
    "price_on = 1"
   ]
  },
  {
   "cell_type": "code",
   "execution_count": 171,
   "metadata": {},
   "outputs": [],
   "source": [
    "def getInputTensor(x, index, input_size):\n",
    "    inputTensor = x[0, index:(index+input_size)].unsqueeze(0)\n",
    "    return inputTensor\n",
    "\n",
    "class RNN(nn.Module):\n",
    "    \n",
    "    def __init__(self, input_size, hidden_size, output_size):\n",
    "        super(RNN, self).__init__()\n",
    "        self.hidden_size = hidden_size\n",
    "        self.i2h = nn.Linear(input_size + hidden_size, hidden_size)\n",
    "        self.i2o = nn.Linear(input_size + hidden_size, output_size)\n",
    "        self.softmax = nn.LogSoftmax(dim=1)\n",
    "\n",
    "    def forward(self, input, hidden):\n",
    "        combined = torch.cat((input.unsqueeze(0), hidden),1)\n",
    "        hidden = self.i2h(combined)\n",
    "        output = self.i2o(combined)\n",
    "#         output = self.softmax(output)\n",
    "        return output, hidden\n",
    "\n",
    "    def initHidden(self):\n",
    "        return Variable(torch.zeros(1,self.hidden_size))"
   ]
  },
  {
   "cell_type": "markdown",
   "metadata": {},
   "source": [
    "Combine Two Layer NN and RNN togther for learning"
   ]
  },
  {
   "cell_type": "code",
   "execution_count": 172,
   "metadata": {},
   "outputs": [],
   "source": [
    "rnn = RNN(input_size, hidden_size, output_size)\n",
    "learning_rate = 0.0005\n",
    "criterion = nn.MSELoss()\n",
    "optimizer = optim.Adam(rnn.parameters(), learning_rate)\n",
    "if price_on:\n",
    "    x = Variable(torch.Tensor(stock_val)).unsqueeze(0)\n",
    "    y = Variable(torch.Tensor(stock_val[15:len(stock_val)])).unsqueeze(0)\n",
    "    test_x = Variable(torch.Tensor(stock_test)).unsqueeze(0)\n",
    "else:\n",
    "    x = Variable(torch.Tensor(RB.values)).unsqueeze(0)\n",
    "    y = Variable(torch.Tensor(RB[11:len(RB.values)].values)).unsqueeze(0)\n"
   ]
  },
  {
   "cell_type": "code",
   "execution_count": 173,
   "metadata": {},
   "outputs": [],
   "source": [
    "\n",
    "def train(input_tensor, output_tensor):\n",
    "\thidden = rnn.initHidden()\n",
    "\n",
    "\n",
    "\tloss = 0\n",
    "\n",
    "\tfor i in range(input_tensor.size()[0]):\n",
    "\t\toutput, hidden = rnn.forward(input_tensor[i], hidden)\n",
    "\t\tloss += criterion(output, output_tensor[i])\n",
    "\t\toptimizer.zero_grad()\n",
    "\n",
    "\tloss.backward()\n",
    "\toptimizer.step()\n",
    "\treturn output, loss.data[0] / input_tensor.size()[0]\n",
    "\n",
    "def test(input_test):\n",
    "\thidden = rnn.initHidden()\n",
    "\tfor i in range(input_test.size()[0]):\n",
    "\t\toutput, hidden = rnn.forward(input_test[i], hidden)\n",
    "\n",
    "\treturn output\n",
    "\n",
    "def timeSince(since):\n",
    "    now = time.time()\n",
    "    s = now - since\n",
    "    m = math.floor(s / 60)\n",
    "    s -= m * 60\n",
    "    return '%dm %ds' % (m, s)"
   ]
  },
  {
   "cell_type": "code",
   "execution_count": 174,
   "metadata": {},
   "outputs": [
    {
     "name": "stdout",
     "output_type": "stream",
     "text": [
      "0m 0s (0 0%) 0.0038\n",
      "0m 0s (100 10%) 0.0000\n",
      "0m 0s (200 20%) 0.0019\n",
      "0m 0s (300 30%) 0.0072\n",
      "0m 0s (400 40%) 0.0020\n",
      "0m 0s (500 50%) 0.0000\n",
      "0m 0s (600 60%) 0.0000\n",
      "0m 0s (700 70%) 0.0001\n",
      "0m 0s (800 80%) 0.0000\n",
      "0m 0s (900 90%) 0.0000\n",
      "0m 0s (1000 100%) 0.0005\n"
     ]
    }
   ],
   "source": [
    "\n",
    "epoch = 1\n",
    "n_iters = 1000\n",
    "print_every = 100\n",
    "plot_every = 10\n",
    "all_losses = []\n",
    "total_loss = 0 # Reset every plot_every iters\n",
    "o = []\n",
    "start = time.time()\n",
    "for j in range(0,epoch):\n",
    "    for iter in range(0, n_iters + 1):\n",
    "        output, loss = train(getInputTensor(x, iter, input_size), y[0, iter].unsqueeze(0))\n",
    "#         output, loss = train(x[0, (iter):(iter+10)].unsqueeze(0), y[0, iter].unsqueeze(0))\n",
    "#         output, loss = train(x,y)\n",
    "        total_loss += loss\n",
    "\n",
    "        if iter % print_every == 0:\n",
    "            print('%s (%d %d%%) %.4f' % (timeSince(start), iter, iter / n_iters * 100, loss))\n",
    "\n",
    "        if iter % plot_every == 0:\n",
    "            all_losses.append(total_loss / plot_every)\n",
    "            total_loss = 0"
   ]
  },
  {
   "cell_type": "code",
   "execution_count": 175,
   "metadata": {},
   "outputs": [
    {
     "data": {
      "image/png": "[encoded data removed]",
      "text/plain": [
       "<Figure size 432x288 with 1 Axes>"
      ]
     },
     "metadata": {},
     "output_type": "display_data"
    }
   ],
   "source": [
    "d = 200\n",
    "o=[]\n",
    "for iter in range(0, d):\n",
    "\toutput = test(x[0, (iter):(iter + 10)].unsqueeze(0))\n",
    "\to.append(float(output))\n",
    "\n",
    "\n",
    "\n",
    "plot.figure(1)\n",
    "if price_on:\n",
    "    plot.plot(stock_val[0:d], color='black')\n",
    "else:\n",
    "    plot.plot(RB[0:d].values, color='black')\n",
    "# plot.plot(np.arange(1,1001), o[0:1000], color = 'blue')\n",
    "# plot.plot(np.arange(1002, d+1), o[1001:d], color = 'red')\n",
    "plot.plot(np.arange(1, d+1), o, color = 'red')\n",
    "plot.show()"
   ]
  },
  {
   "cell_type": "code",
   "execution_count": 177,
   "metadata": {},
   "outputs": [
    {
     "data": {
      "image/png": "[encoded data removed]",
      "text/plain": [
       "<Figure size 432x288 with 1 Axes>"
      ]
     },
     "metadata": {},
     "output_type": "display_data"
    }
   ],
   "source": [
    "d = 200\n",
    "o=[]\n",
    "for iter in range(0, d):\n",
    "\toutput = test(test_x[0, (iter):(iter + 10)].unsqueeze(0))\n",
    "\to.append(float(output))\n",
    "\n",
    "\n",
    "\n",
    "plot.figure(1)\n",
    "if price_on:\n",
    "    plot.plot(stock_test[0:d], color='black')\n",
    "else:\n",
    "    plot.plot(RB[0:d].values, color='black')\n",
    "# plot.plot(np.arange(1,1001), o[0:1000], color = 'blue')\n",
    "# plot.plot(np.arange(1002, d+1), o[1001:d], color = 'red')\n",
    "plot.plot(np.arange(1, d+1), o, color = 'red')\n",
    "plot.show()"
   ]
  },
  {
   "cell_type": "code",
   "execution_count": null,
   "metadata": {},
   "outputs": [],
   "source": []
  }
 ],
 "metadata": {
  "kernelspec": {
   "display_name": "Python 3",
   "language": "python",
   "name": "python3"
  },
  "language_info": {
   "codemirror_mode": {
    "name": "ipython",
    "version": 3
   },
   "file_extension": ".py",
   "mimetype": "text/x-python",
   "name": "python",
   "nbconvert_exporter": "python",
   "pygments_lexer": "ipython3",
   "version": "3.6.4"
  }
 },
 "nbformat": 4,
 "nbformat_minor": 2
}
